{
 "cells": [
  {
   "cell_type": "code",
   "execution_count": 3,
   "metadata": {
    "collapsed": true
   },
   "outputs": [],
   "source": [
    "from sklearn.cluster import KMeans\n",
    "\n",
    "import skimage\n",
    "import scipy.misc\n",
    "import numpy as np\n",
    "import skimage.color\n",
    "import matplotlib.pyplot as plt\n",
    "\n",
    "%matplotlib inline"
   ]
  },
  {
   "cell_type": "code",
   "execution_count": null,
   "metadata": {
    "collapsed": true
   },
   "outputs": [],
   "source": [
    "def get_img(img_path):\n",
    "    img = scipy.misc.imread(img_path, mode = 'RGB')\n",
    "    return img\n",
    "\n",
    "def rgb2lab(image):\n",
    "    '''\n",
    "    L range: 0 ~ 100\n",
    "    a range: -128 ~ 127\n",
    "    b range: -128 ~ 127\n",
    "    \n",
    "    '''\n",
    "    lab_color = skimage.color.rgb2lab(image)\n",
    "    return lab_color\n",
    "\n",
    "\n",
    "def lab2rgb(image):\n",
    "    rgb_color = skimage.color.lab2rgb(image)\n",
    "    return rgb_color\n",
    "\n",
    "\n",
    "def nearest_search(image, palette):\n",
    "    '''\n",
    "    Palette shape: (16, 16, 3)\n",
    "    \n",
    "    '''\n",
    "    img_shape = image.shape\n",
    "    height = img_shape[0] \n",
    "    width = img_shape[1] \n",
    "    new_img = np.zeros(img_shape)\n",
    "    for i in range(height):\n",
    "        for j in range(width):\n",
    "            index = find_min_idx(np.sum((palette - image[i, j, :])**2,2)) ### Bugs\n",
    "            new_img[i, j, :] = palette[index[0], index[1], :]\n",
    "    \n",
    "    return new_img\n",
    "\n",
    "def nearest_search_lab(ab_color, palette):\n",
    "    '''\n",
    "    search in Lab space\n",
    "    \n",
    "    '''\n",
    "    ab_color_shape = ab_color.shape\n",
    "    height = ab_color_shape[0] \n",
    "    width = ab_color_shape[1] \n",
    "    new_color_space = np.zeros(ab_color_shape)\n",
    "    for i in range(height):\n",
    "        for j in range(width):\n",
    "            index = find_min_idx(np.sum(np.absolute(palette - ab_color[i, j, :]),2)) ### Bugs 减法有问题\n",
    "            new_color_space[i, j, :] = palette[index[0], index[1], :]\n",
    "    \n",
    "    return new_color_space\n",
    "\n",
    "\n",
    "def find_min_idx(x):\n",
    "    k = x.argmin()\n",
    "    ncol = x.shape[1]\n",
    "    return np.int(k/ncol), k%ncol"
   ]
  },
  {
   "cell_type": "code",
   "execution_count": null,
   "metadata": {
    "collapsed": true
   },
   "outputs": [],
   "source": [
    "img = get_img('C:\\\\Users\\\\Orion_Peng\\\\Pictures\\\\Saved Pictures\\\\dog.jpg')\n",
    "resize = scipy.misc.imresize(img, (256, 256))\n",
    "\n",
    "resize_lab = rgb2lab(resize)\n",
    "\n",
    "ab_reshape = np.reshape(resize_lab,(256 * 256, 3))\n",
    "\n",
    "kmeans = KMeans(n_clusters=16, random_state=0).fit(ab_reshape)\n",
    "palette = kmeans.cluster_centers_\n",
    "palette = np.reshape(palette,(4,4,3))\n",
    "\n",
    "new = nearest_search(resize_lab, palette)\n",
    "\n",
    "new = lab2rgb(new)\n",
    "plt.figure()\n",
    "plt.imshow(new)\n",
    "plt.figure()\n",
    "plt.imshow(resize)"
   ]
  }
 ],
 "metadata": {
  "kernelspec": {
   "display_name": "Python 3",
   "language": "python",
   "name": "python3"
  },
  "language_info": {
   "codemirror_mode": {
    "name": "ipython",
    "version": 3
   },
   "file_extension": ".py",
   "mimetype": "text/x-python",
   "name": "python",
   "nbconvert_exporter": "python",
   "pygments_lexer": "ipython3",
   "version": "3.5.2"
  }
 },
 "nbformat": 4,
 "nbformat_minor": 2
}
