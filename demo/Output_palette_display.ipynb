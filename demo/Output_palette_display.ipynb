{
 "cells": [
  {
   "cell_type": "code",
   "execution_count": 1,
   "metadata": {
    "collapsed": true
   },
   "outputs": [],
   "source": [
    "import numpy as np\n",
    "import scipy.misc\n",
    "import matplotlib.pyplot as plt\n",
    "import skimage.color\n",
    "import time\n",
    "import os\n",
    "%matplotlib inline"
   ]
  },
  {
   "cell_type": "code",
   "execution_count": 2,
   "metadata": {},
   "outputs": [
    {
     "data": {
      "text/plain": [
       "['output_palette_0.npy',\n",
       " 'output_palette_2.npy',\n",
       " 'output_palette_4.npy',\n",
       " 'output_palette_6.npy',\n",
       " 'output_palette_80.npy',\n",
       " 'output_palette_100.npy',\n",
       " 'output_palette_120.npy',\n",
       " 'output_palette_200.npy',\n",
       " 'output_palette_400.npy',\n",
       " 'output_palette_1000.npy']"
      ]
     },
     "execution_count": 2,
     "metadata": {},
     "output_type": "execute_result"
    }
   ],
   "source": [
    "filename = os.listdir('D:\\\\PythonScript\\\\Comp5422\\\\github\\\\GANforColorQuantization\\\\submit\\\\output_palette')\n",
    "filename_clean = [int(x[15:][:-4]) for x in filename]\n",
    "filename_sorted = sorted(filename_clean)\n",
    "filenamelist = ['output_palette_' + str(i) + '.npy' for i in filename_sorted]\n",
    "filenamelist"
   ]
  },
  {
   "cell_type": "code",
   "execution_count": 5,
   "metadata": {},
   "outputs": [
    {
     "data": {
      "text/plain": [
       "<matplotlib.image.AxesImage at 0x2901ce0b908>"
      ]
     },
     "execution_count": 5,
     "metadata": {},
     "output_type": "execute_result"
    },
    {
     "data": {
      "image/png": "[encoded data removed]",
      "text/plain": [
       "<matplotlib.figure.Figure at 0x2901cdc5eb8>"
      ]
     },
     "metadata": {},
     "output_type": "display_data"
    }
   ],
   "source": [
    "palette = np.load('D:\\\\PythonScript\\\\Comp5422\\\\github\\\\GANforColorQuantization\\\\submit\\\\output_palette\\\\' + filenamelist[1])\n",
    "palette = np.transpose(palette)\n",
    "palette = np.clip(palette, 0, 1)\n",
    "palette = np.reshape(palette, [16, 16, 3])\n",
    "plt.imshow(palette)"
   ]
  },
  {
   "cell_type": "code",
   "execution_count": null,
   "metadata": {
    "collapsed": true
   },
   "outputs": [],
   "source": []
  }
 ],
 "metadata": {
  "kernelspec": {
   "display_name": "Python 3",
   "language": "python",
   "name": "python3"
  },
  "language_info": {
   "codemirror_mode": {
    "name": "ipython",
    "version": 3
   },
   "file_extension": ".py",
   "mimetype": "text/x-python",
   "name": "python",
   "nbconvert_exporter": "python",
   "pygments_lexer": "ipython3",
   "version": "3.5.2"
  }
 },
 "nbformat": 4,
 "nbformat_minor": 2
}
