{
 "cells": [
  {
   "cell_type": "code",
   "execution_count": null,
   "metadata": {
    "collapsed": true
   },
   "outputs": [],
   "source": [
    "from sklearn.cluster import KMeans\n",
    "import skimage\n",
    "import scipy.misc\n",
    "import numpy as np\n",
    "import tensorflow as tf\n",
    "import skimage.color\n",
    "import matplotlib.pyplot as plt\n",
    "import os \n",
    "%matplotlib inline"
   ]
  },
  {
   "cell_type": "code",
   "execution_count": null,
   "metadata": {
    "collapsed": true
   },
   "outputs": [],
   "source": [
    "def rgb2lab(image):\n",
    "    '''\n",
    "    L range: 0 ~ 100\n",
    "    a range: -128 ~ 127\n",
    "    b range: -128 ~ 127\n",
    "    \n",
    "    '''\n",
    "    lab_color = skimage.color.rgb2lab(image)\n",
    "    return lab_color\n",
    "\n",
    "\n",
    "def lab2rgb(image):\n",
    "    rgb_color = skimage.color.lab2rgb(image)\n",
    "    return rgb_color"
   ]
  },
  {
   "cell_type": "code",
   "execution_count": null,
   "metadata": {
    "collapsed": true
   },
   "outputs": [],
   "source": [
    "def rgb2yuv(image):\n",
    "    yuv_color = skimage.color.rgb2yuv(image)\n",
    "    return yuv_color\n"
   ]
  },
  {
   "cell_type": "code",
   "execution_count": null,
   "metadata": {
    "collapsed": true
   },
   "outputs": [],
   "source": [
    "path = 'D:\\\\PythonScript\\\\Comp5422\\\\github\\\\forest_image\\\\'\n",
    "path_1 = 'D:\\\\PythonScript\\\\Comp5422\\\\github\\\\forest_resize\\\\'"
   ]
  },
  {
   "cell_type": "code",
   "execution_count": null,
   "metadata": {
    "collapsed": true
   },
   "outputs": [],
   "source": [
    "'''\n",
    "\n",
    "Image Resizing (256, 256, 3) to (128, 128, 3)\n",
    "\n",
    "\n",
    "'''\n",
    "for file in iter(os.listdir(path = path)):\n",
    "    openpath = path + str(file)\n",
    "    image = scipy.misc.imread(openpath)\n",
    "    image = scipy.misc.imresize(image, (128, 128))\n",
    "    savepath = path_1 + str(file)\n",
    "    scipy.misc.imsave(savepath, image)"
   ]
  },
  {
   "cell_type": "code",
   "execution_count": null,
   "metadata": {
    "collapsed": true
   },
   "outputs": [],
   "source": [
    "'''\n",
    "\n",
    "Generate Palette/Combine all the images\n",
    "\n",
    "'''\n",
    "imagelist = []\n",
    "for imgs in iter(os.listdir(path_1)):\n",
    "    openpath = path_1 + str(imgs)\n",
    "    image = scipy.misc.imread(openpath)\n",
    "    height = image.shape[0]\n",
    "    width = image.shape[1]\n",
    "    image_lab = rgb2lab(image)\n",
    "    image_lab_reshape = np.reshape(image_lab,(height * width, 3))\n",
    "    imagelist.append(image_lab_reshape)"
   ]
  },
  {
   "cell_type": "code",
   "execution_count": null,
   "metadata": {},
   "outputs": [],
   "source": [
    "combined_image = np.concatenate(imagelist[:20], axis = 0)\n",
    "combined_image.shape"
   ]
  },
  {
   "cell_type": "code",
   "execution_count": null,
   "metadata": {},
   "outputs": [],
   "source": [
    "kmeans = KMeans(n_clusters = 256, max_iter = 40, random_state = 0, n_jobs = -1).fit(combined_image)\n",
    "palette1 = kmeans.cluster_centers_\n",
    "palette1 = np.reshape(palette1, [16, 16, 3])\n",
    "plt.imshow(lab2rgb(palette1))"
   ]
  },
  {
   "cell_type": "code",
   "execution_count": null,
   "metadata": {
    "collapsed": true
   },
   "outputs": [],
   "source": [
    "palette_save = lab2rgb(palette1)\n",
    "palette_save = np.reshape(palette_save, [256, 3])\n",
    "np.save('./forest_palette.npy', palette_save)"
   ]
  },
  {
   "cell_type": "code",
   "execution_count": null,
   "metadata": {},
   "outputs": [],
   "source": [
    "'''\n",
    "rgb to ab palette\n",
    "\n",
    "'''\n",
    "\n",
    "rgb_palette = np.load('forest_palette.npy')\n",
    "\n",
    "rgb_palette = np.reshape(rgb_palette, [16, 16, 3])\n",
    "\n",
    "\n",
    "lab_palette = rgb2lab(rgb_palette)\n",
    "ab_palette = lab_palette[:,:,1:]\n",
    "ab_palette.shape\n",
    "\n",
    "ab_palette = np.reshape(ab_palette, [256, 2])\n",
    "ab_palette.shape\n",
    "\n",
    "np.save('ab_palette', ab_palette)"
   ]
  },
  {
   "cell_type": "code",
   "execution_count": null,
   "metadata": {
    "collapsed": true
   },
   "outputs": [],
   "source": [
    "'''\n",
    "rgb 2 hsv palette\n",
    "'''\n",
    "rgb_palette = np.load('forest_palette.npy')\n",
    "rgb_palette = np.reshape(rgb_palette, [16, 16, 3])\n",
    "hsv_palette = rgb2hsv(rgb_palette)\n",
    "hs_palette = hsv_palette[:,:,:2]\n",
    "hs_palette = np.reshape(hs_palette, [256, 2])\n",
    "hs_palette.shape\n",
    "np.save('hs_palette', hs_palette)"
   ]
  },
  {
   "cell_type": "code",
   "execution_count": null,
   "metadata": {},
   "outputs": [],
   "source": [
    "'''\n",
    "rgb 2 yuv palette\n",
    "'''\n",
    "rgb_palette = np.load('forest_palette.npy')\n",
    "rgb_palette = np.reshape(rgb_palette, [16, 16, 3])\n",
    "yuv_palette = rgb2yuv(rgb_palette)\n",
    "uv_palette = yuv_palette[:,:,1:]\n",
    "uv_palette = np.reshape(uv_palette, [256, 2])\n",
    "np.save('uv_palette', uv_palette)\n",
    "uv_palette.shape"
   ]
  },
  {
   "cell_type": "code",
   "execution_count": null,
   "metadata": {
    "collapsed": true
   },
   "outputs": [],
   "source": [
    "'''\n",
    "\n",
    "Genearate Training/Testing Data\n",
    "\n",
    "\n",
    "'''\n",
    "imagedata = []\n",
    "for imgs in iter(os.listdir(path_1)):\n",
    "    openpath = path_1 + str(imgs)\n",
    "    image = scipy.misc.imread(openpath)\n",
    "    imagedata.append(image)\n",
    "batchdata = np.stack(imagedata)"
   ]
  },
  {
   "cell_type": "code",
   "execution_count": null,
   "metadata": {
    "collapsed": true
   },
   "outputs": [],
   "source": [
    "from sklearn.model_selection import train_test_split\n",
    "train, test = train_test_split(batchdata, test_size = 0.1)\n",
    "np.save('./train_data', train)\n",
    "np.save('./test_data', test)"
   ]
  },
  {
   "cell_type": "code",
   "execution_count": null,
   "metadata": {},
   "outputs": [],
   "source": [
    "pit = np.load('pts_in_hull.npy')\n",
    "pit.shape"
   ]
  },
  {
   "cell_type": "code",
   "execution_count": null,
   "metadata": {},
   "outputs": [],
   "source": [
    "modified = np.load('modi_pts_in_hull.npy')\n",
    "modified = modified/80\n",
    "modified"
   ]
  },
  {
   "cell_type": "code",
   "execution_count": null,
   "metadata": {
    "collapsed": true
   },
   "outputs": [],
   "source": [
    "np.save('modi2.npy',modified )"
   ]
  },
  {
   "cell_type": "code",
   "execution_count": null,
   "metadata": {
    "collapsed": true
   },
   "outputs": [],
   "source": [
    "import json\n",
    "data = json.load(open('D:\\\\PythonScript\\\\Comp5422\\\\colordata.json'))\n",
    "palette = np.zeros((256, 1, 3))\n",
    "for i in range(256):\n",
    "    palette[i,:,0] = data[i]['rgb']['r']\n",
    "    palette[i,:,1] = data[i]['rgb']['g']\n",
    "    palette[i,:,2] = data[i]['rgb']['b']\n",
    "\n",
    "palette = np.reshape(palette,(256, 3)).astype(np.uint8)\n",
    "\n",
    "np.save('rgb_std_palette.npy', palette)"
   ]
  },
  {
   "cell_type": "code",
   "execution_count": null,
   "metadata": {
    "collapsed": true
   },
   "outputs": [],
   "source": [
    "palette = np.load('rgb_std_palette.npy')/255.\n",
    "\n",
    "np.save('rgb_std_palette.npy', palette)"
   ]
  },
  {
   "cell_type": "code",
   "execution_count": null,
   "metadata": {},
   "outputs": [],
   "source": [
    "np.load('rgb_std_palette.npy')"
   ]
  }
 ],
 "metadata": {
  "kernelspec": {
   "display_name": "Python 3",
   "language": "python",
   "name": "python3"
  },
  "language_info": {
   "codemirror_mode": {
    "name": "ipython",
    "version": 3
   },
   "file_extension": ".py",
   "mimetype": "text/x-python",
   "name": "python",
   "nbconvert_exporter": "python",
   "pygments_lexer": "ipython3",
   "version": "3.5.2"
  }
 },
 "nbformat": 4,
 "nbformat_minor": 2
}
