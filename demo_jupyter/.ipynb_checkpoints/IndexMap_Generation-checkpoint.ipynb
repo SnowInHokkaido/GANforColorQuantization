{
 "cells": [
  {
   "cell_type": "code",
   "execution_count": 2,
   "metadata": {
    "collapsed": true
   },
   "outputs": [],
   "source": [
    "# coding: utf-8\n",
    "import numpy as np\n",
    "import scipy.misc\n",
    "import scipy.io\n",
    "import scipy\n",
    "import datetime\n",
    "import tensorflow as tf\n",
    "import matplotlib.pyplot as plt\n",
    "import skimage.color\n",
    "%matplotlib inline"
   ]
  },
  {
   "cell_type": "code",
   "execution_count": 3,
   "metadata": {
    "collapsed": true
   },
   "outputs": [],
   "source": [
    "def net(image):  ### 输入的图像不用normalization [batch, height = 256, width = 256, channel = 3]\n",
    "    normalization = batch_norm(image, train=True)\n",
    "    conv1_1_relu = conv_layer(normalization, 64, 3, 1, relu=True) #[batch, height = 256, width = 256, channel = 64]\n",
    "    conv1_2_relu = conv_layer(conv1_1_relu, 64, 3, 1, relu=True)\n",
    "    conv1_2norm = batch_norm(conv1_2_relu, train=True)\n",
    "\n",
    "    conv2_1_relu = conv_layer(conv1_2norm, 128, 3, 1, relu=True)\n",
    "    conv2_2_relu = conv_layer(conv1_1_relu, 128, 3, 2, relu=True) # \n",
    "    conv2_2norm = batch_norm(conv2_2_relu, train=True)\n",
    "\n",
    "\n",
    "    conv3_1_relu = conv_layer(conv2_2norm, 256, 3, 1, relu=True)\n",
    "    conv3_2_relu = conv_layer(conv3_1_relu, 256, 3, 1, relu=True)\n",
    "    conv3_3_relu = conv_layer(conv3_2_relu, 256, 3, 2, relu=True)\n",
    "    conv3_3norm = batch_norm(conv3_3_relu, train=True)\n",
    "    '''\n",
    "    conv4_1 (Stride:1,pad:1 dilation: 1)> relu4_1 > conv4_2(same) > relu4_2 > conv4_3(same) > relu4_3 > conv4_3_norm\n",
    "\n",
    "    tf.nn.atrous_conv2d(net, weights_init, rate, 'SAME')\n",
    "    conv_layer_dila(net, num_filters, filter_size, rate, relu=True)\n",
    "    '''\n",
    "    conv4_1_relu = conv_layer(conv3_3norm, 512, 3, 2, relu=True)\n",
    "    conv4_2_relu = conv_layer_dila(conv4_1_relu, 512, 3, 1, relu=True)\n",
    "    conv4_3_relu = conv_layer_dila(conv4_2_relu, 512, 3, 1, relu=True)\n",
    "    conv4_3norm = batch_norm(conv4_3_relu, train=True)\n",
    "\n",
    "\n",
    "\n",
    "    '''\n",
    "\n",
    "    conv8_1(256, kernal:4 stride:2 pad:1 dilation:1) > relu8_1 > conv8_2(kernal:3 stride:1) > relu8_2 > conv8_3\n",
    "\n",
    "    '''\n",
    "    conv8_1_relu = conv_tranpose_layer(conv4_3norm, 256, 4, 2)\n",
    "    conv8_2_relu = conv_layer(conv8_1_relu, 256, 3, 1, relu=True)\n",
    "    conv8_3_relu = conv_layer(conv8_2_relu, 256, 3, 1, relu=True)\n",
    "    \n",
    "    \n",
    "    conv9_1 = conv_layer(conv8_3_relu, 128, 3, 1, relu=True)\n",
    "    conv9_2 = conv_layer(conv9_1, 64, 3, 2, relu=True)\n",
    "    conv9_3 = conv_layer(conv9_2, 32, 3, 2, relu=True)\n",
    "    conv9_4 = conv_layer(conv9_3, 3, 3, 1, relu=True)\n",
    "    \n",
    "\n",
    "    return conv9_4"
   ]
  },
  {
   "cell_type": "code",
   "execution_count": 4,
   "metadata": {
    "collapsed": true
   },
   "outputs": [],
   "source": [
    "def nearest_search(image, palette):\n",
    "    '''\n",
    "    Palette shape: (16, 16, 3)\n",
    "    \n",
    "    '''\n",
    "    img_shape = image.shape\n",
    "    height = img_shape[0] \n",
    "    width = img_shape[1] \n",
    "    new_img = np.zeros(img_shape)\n",
    "    for i in range(height):\n",
    "        for j in range(width):\n",
    "            index = find_min_idx(np.sum((palette - image[i, j, :])**2,2)) ### Bugs\n",
    "            new_img[i, j, :] = palette[index[0], index[1], :]\n",
    "            \n",
    "    return new_img\n",
    "            \n",
    "\n",
    "def find_min_idx(x):\n",
    "    k = x.argmin()\n",
    "    ncol = x.shape[1]\n",
    "    return np.int(k/ncol), k%ncol\n",
    "\n",
    "\n",
    "def get_img(img_path):\n",
    "    img = scipy.misc.imread(img_path, mode = 'RGB')\n",
    "    return img\n",
    "\n",
    "def rgb2lab(image):\n",
    "    '''\n",
    "    L range: 0 ~ 100\n",
    "    a range: -128 ~ 127\n",
    "    b range: -128 ~ 127\n",
    "    \n",
    "    '''\n",
    "    lab_color = skimage.color.rgb2lab(image)\n",
    "    return lab_color\n",
    "\n",
    "\n",
    "def lab2rgb(image):\n",
    "    rgb_color = skimage.color.lab2rgb(image)\n",
    "    return rgb_color\n"
   ]
  },
  {
   "cell_type": "code",
   "execution_count": 5,
   "metadata": {
    "collapsed": true
   },
   "outputs": [],
   "source": [
    "def conv_init_vars(net, out_channels, filter_size, transpose=False):\n",
    "    '''\n",
    "    \n",
    "    According to the previous output, intialize the weight matrix.\n",
    "    \n",
    "    \n",
    "    '''\n",
    "    _, rows, cols, in_channels = [i.value for i in net.get_shape()] ### Obtain in_channels\n",
    "    \n",
    "    if not transpose:\n",
    "        weights_shape = [filter_size, filter_size, in_channels, out_channels]\n",
    "    else:\n",
    "        weights_shape = [filter_size, filter_size, out_channels, in_channels]\n",
    "    \n",
    "    # weights shape = [Kernal size, kernal size, output kernal, input kernal]\n",
    "\n",
    "    weights_init = tf.Variable(tf.truncated_normal(weights_shape, stddev = 0.1, seed=1), dtype=tf.float32)\n",
    "    \n",
    "    return weights_init\n",
    "\n",
    "\n",
    "\n",
    "def batch_norm(net, train=True):\n",
    "    '''\n",
    "    \n",
    "    Apply Batch Normalization Function\n",
    "    \n",
    "    BN: Forward norm and then inverse norm.\n",
    "    \n",
    "    '''\n",
    "    batch, rows, cols, channels = [i.value for i in net.get_shape()]### Shape Meaning: [batchsize, height, width, kernels]\n",
    "    var_shape = [channels]\n",
    "    mu, sigma_sq = tf.nn.moments(net, [1,2], keep_dims=True) ### Calculate the mean and variance of x.Output: One-dimension\n",
    "    shift = tf.Variable(tf.zeros(var_shape)) ### Inverse Norm\n",
    "    scale = tf.Variable(tf.ones(var_shape)) ### Inverse Norm\n",
    "    epsilon = 1e-3\n",
    "    normalized = (net-mu)/(sigma_sq + epsilon)**(.5)\n",
    "    return scale * normalized + shift ### Applied Batch Normalization\n",
    "\n",
    "\n",
    "def conv_layer(net, num_filters, filter_size, strides, relu=True):\n",
    "    '''\n",
    "    \n",
    "    Apply convolution operation\n",
    "    \n",
    "    '''\n",
    "    weights_init = conv_init_vars(net, num_filters, filter_size)\n",
    "    strides_shape = [1, strides, strides, 1]                \n",
    "    net = tf.nn.conv2d(net, weights_init, strides_shape, padding='SAME')\n",
    "    \n",
    "    if relu:\n",
    "        net = tf.nn.relu(net)   \n",
    "    \n",
    "    return net        \n",
    "\n",
    "def conv_layer_dila(net, num_filters, filter_size, rate, relu=True):\n",
    "    '''\n",
    "    \n",
    "    Apply dilation convolution operation\n",
    "    \n",
    "    '''\n",
    "    weights_init = conv_init_vars(net, num_filters, filter_size)\n",
    "    #strides_shape = [1, strides, strides, 1]\n",
    "    \n",
    "    net = tf.nn.atrous_conv2d(net, weights_init, rate, 'SAME') # Dialation Convolution\n",
    "                 \n",
    "    \n",
    "    if relu:\n",
    "        net = tf.nn.relu(net)   \n",
    "    \n",
    "    return net   \n",
    "\n",
    "def conv_tranpose_layer(net, num_filters, filter_size, strides):\n",
    "    weights_init = conv_init_vars(net, num_filters, filter_size, transpose=True)\n",
    "\n",
    "    batch_size, rows, cols, in_channels = [i.value for i in net.get_shape()]\n",
    "    new_rows, new_cols = int(rows * strides), int(cols * strides)\n",
    "    # new_shape = #tf.pack([tf.shape(net)[0], new_rows, new_cols, num_filters])\n",
    "    new_shape = [batch_size, new_rows, new_cols, num_filters]  \n",
    "    tf_shape = tf.stack(new_shape)   \n",
    "    strides_shape = [1,strides,strides,1]\n",
    "    net = tf.nn.conv2d_transpose(net, weights_init, tf_shape, strides_shape, padding='SAME')\n",
    "    return tf.nn.relu(net)\n",
    "\n"
   ]
  },
  {
   "cell_type": "code",
   "execution_count": 7,
   "metadata": {},
   "outputs": [
    {
     "name": "stdout",
     "output_type": "stream",
     "text": [
      "Tensor(\"Relu_16:0\", shape=(1, 16, 16, 3), dtype=float32)\n"
     ]
    },
    {
     "data": {
      "text/plain": [
       "<tf.Tensor 'Reshape:0' shape=(256, 1, 3) dtype=float32>"
      ]
     },
     "execution_count": 7,
     "metadata": {},
     "output_type": "execute_result"
    }
   ],
   "source": [
    "'''\n",
    "\n",
    "Img loading\n",
    "\n",
    "\n",
    "'''\n",
    "\n",
    "tf.reset_default_graph()\n",
    "\n",
    "img_path = 'C:\\\\Users\\\\Orion_Peng\\\\Pictures\\\\Saved Pictures\\\\shuimo_b.jpg'\n",
    "\n",
    "img = get_img(img_path)\n",
    "\n",
    "img_resize = scipy.misc.imresize(img, (256, 256)) #Input image\n",
    "\n",
    "img_resize_lab = rgb2lab(img_resize)\n",
    "\n",
    "input_img = np.array([img_resize_lab]) ### Batch \n",
    "\n",
    "input_img = tf.cast(input_img, tf.float32) ### Transform into tensor\n",
    "\n",
    "palette = net(input_img)\n",
    "\n",
    "print(palette)\n",
    "\n",
    "palette  = tf.reshape(palette, [256, 1, 3])\n",
    "\n",
    "palette "
   ]
  },
  {
   "cell_type": "code",
   "execution_count": 8,
   "metadata": {},
   "outputs": [
    {
     "ename": "LookupError",
     "evalue": "No gradient defined for operation 'ArgMin' (op type: ArgMin)",
     "output_type": "error",
     "traceback": [
      "\u001b[1;31m---------------------------------------------------------------------------\u001b[0m",
      "\u001b[1;31mLookupError\u001b[0m                               Traceback (most recent call last)",
      "\u001b[1;32mc:\\pythonvirtual\\python3\\lib\\site-packages\\tensorflow\\python\\ops\\gradients_impl.py\u001b[0m in \u001b[0;36mgradients\u001b[1;34m(ys, xs, grad_ys, name, colocate_gradients_with_ops, gate_gradients, aggregation_method)\u001b[0m\n\u001b[0;32m    509\u001b[0m             \u001b[1;32mtry\u001b[0m\u001b[1;33m:\u001b[0m\u001b[1;33m\u001b[0m\u001b[0m\n\u001b[1;32m--> 510\u001b[1;33m               \u001b[0mgrad_fn\u001b[0m \u001b[1;33m=\u001b[0m \u001b[0mops\u001b[0m\u001b[1;33m.\u001b[0m\u001b[0mget_gradient_function\u001b[0m\u001b[1;33m(\u001b[0m\u001b[0mop\u001b[0m\u001b[1;33m)\u001b[0m\u001b[1;33m\u001b[0m\u001b[0m\n\u001b[0m\u001b[0;32m    511\u001b[0m             \u001b[1;32mexcept\u001b[0m \u001b[0mLookupError\u001b[0m\u001b[1;33m:\u001b[0m\u001b[1;33m\u001b[0m\u001b[0m\n",
      "\u001b[1;32mc:\\pythonvirtual\\python3\\lib\\site-packages\\tensorflow\\python\\framework\\ops.py\u001b[0m in \u001b[0;36mget_gradient_function\u001b[1;34m(op)\u001b[0m\n\u001b[0;32m   1797\u001b[0m     \u001b[0mop_type\u001b[0m \u001b[1;33m=\u001b[0m \u001b[0mop\u001b[0m\u001b[1;33m.\u001b[0m\u001b[0mtype\u001b[0m\u001b[1;33m\u001b[0m\u001b[0m\n\u001b[1;32m-> 1798\u001b[1;33m   \u001b[1;32mreturn\u001b[0m \u001b[0m_gradient_registry\u001b[0m\u001b[1;33m.\u001b[0m\u001b[0mlookup\u001b[0m\u001b[1;33m(\u001b[0m\u001b[0mop_type\u001b[0m\u001b[1;33m)\u001b[0m\u001b[1;33m\u001b[0m\u001b[0m\n\u001b[0m\u001b[0;32m   1799\u001b[0m \u001b[1;33m\u001b[0m\u001b[0m\n",
      "\u001b[1;32mc:\\pythonvirtual\\python3\\lib\\site-packages\\tensorflow\\python\\framework\\registry.py\u001b[0m in \u001b[0;36mlookup\u001b[1;34m(self, name)\u001b[0m\n\u001b[0;32m     92\u001b[0m       raise LookupError(\n\u001b[1;32m---> 93\u001b[1;33m           \"%s registry has no entry for: %s\" % (self._name, name))\n\u001b[0m",
      "\u001b[1;31mLookupError\u001b[0m: gradient registry has no entry for: ArgMin",
      "\nDuring handling of the above exception, another exception occurred:\n",
      "\u001b[1;31mLookupError\u001b[0m                               Traceback (most recent call last)",
      "\u001b[1;32m<ipython-input-8-a8ce3877ce46>\u001b[0m in \u001b[0;36m<module>\u001b[1;34m()\u001b[0m\n\u001b[0;32m     25\u001b[0m \u001b[0mindex\u001b[0m \u001b[1;33m=\u001b[0m \u001b[0mtf\u001b[0m\u001b[1;33m.\u001b[0m\u001b[0margmin\u001b[0m\u001b[1;33m(\u001b[0m\u001b[0mloss\u001b[0m\u001b[1;33m,\u001b[0m \u001b[0maxis\u001b[0m \u001b[1;33m=\u001b[0m \u001b[1;36m2\u001b[0m\u001b[1;33m)\u001b[0m\u001b[1;33m\u001b[0m\u001b[0m\n\u001b[0;32m     26\u001b[0m \u001b[1;33m\u001b[0m\u001b[0m\n\u001b[1;32m---> 27\u001b[1;33m \u001b[0mgrad\u001b[0m \u001b[1;33m=\u001b[0m \u001b[0mtf\u001b[0m\u001b[1;33m.\u001b[0m\u001b[0mgradients\u001b[0m\u001b[1;33m(\u001b[0m\u001b[0mindex\u001b[0m\u001b[1;33m,\u001b[0m \u001b[0minput_img\u001b[0m\u001b[1;33m)\u001b[0m\u001b[1;33m\u001b[0m\u001b[0m\n\u001b[0m\u001b[0;32m     28\u001b[0m \u001b[1;32mwith\u001b[0m \u001b[0mtf\u001b[0m\u001b[1;33m.\u001b[0m\u001b[0mSession\u001b[0m\u001b[1;33m(\u001b[0m\u001b[1;33m)\u001b[0m \u001b[1;32mas\u001b[0m \u001b[0msess\u001b[0m\u001b[1;33m:\u001b[0m\u001b[1;33m\u001b[0m\u001b[0m\n\u001b[0;32m     29\u001b[0m     \u001b[0msess\u001b[0m\u001b[1;33m.\u001b[0m\u001b[0mrun\u001b[0m\u001b[1;33m(\u001b[0m\u001b[0mtf\u001b[0m\u001b[1;33m.\u001b[0m\u001b[0mglobal_variables_initializer\u001b[0m\u001b[1;33m(\u001b[0m\u001b[1;33m)\u001b[0m\u001b[1;33m)\u001b[0m\u001b[1;33m\u001b[0m\u001b[0m\n",
      "\u001b[1;32mc:\\pythonvirtual\\python3\\lib\\site-packages\\tensorflow\\python\\ops\\gradients_impl.py\u001b[0m in \u001b[0;36mgradients\u001b[1;34m(ys, xs, grad_ys, name, colocate_gradients_with_ops, gate_gradients, aggregation_method)\u001b[0m\n\u001b[0;32m    512\u001b[0m               raise LookupError(\n\u001b[0;32m    513\u001b[0m                   \u001b[1;34m\"No gradient defined for operation '%s' (op type: %s)\"\u001b[0m \u001b[1;33m%\u001b[0m\u001b[1;33m\u001b[0m\u001b[0m\n\u001b[1;32m--> 514\u001b[1;33m                   (op.name, op.type))\n\u001b[0m\u001b[0;32m    515\u001b[0m         \u001b[1;32mif\u001b[0m \u001b[0mloop_state\u001b[0m\u001b[1;33m:\u001b[0m\u001b[1;33m\u001b[0m\u001b[0m\n\u001b[0;32m    516\u001b[0m           \u001b[0mloop_state\u001b[0m\u001b[1;33m.\u001b[0m\u001b[0mEnterGradWhileContext\u001b[0m\u001b[1;33m(\u001b[0m\u001b[0mop\u001b[0m\u001b[1;33m,\u001b[0m \u001b[0mbefore\u001b[0m\u001b[1;33m=\u001b[0m\u001b[1;32mFalse\u001b[0m\u001b[1;33m)\u001b[0m\u001b[1;33m\u001b[0m\u001b[0m\n",
      "\u001b[1;31mLookupError\u001b[0m: No gradient defined for operation 'ArgMin' (op type: ArgMin)"
     ]
    }
   ],
   "source": [
    "'''\n",
    "\n",
    "单独跑network要6秒\n",
    "\n",
    "'''\n",
    "\n",
    "start_time = datetime.datetime.now()  # \n",
    "\n",
    "### How to define the loss ??\n",
    "img_resize_2 = scipy.misc.imresize(img, (256, 256))\n",
    "\n",
    "resize_float32 = img_resize_2.astype(np.float32)\n",
    "\n",
    "resize_float32_ = tf.cast(resize_float32, tf.float32) ### A constant\n",
    "\n",
    "new_img = tf.Variable(resize_float32_, tf.float32)\n",
    "\n",
    "loss = tf.reshape(tf.reduce_sum((palette[0, 0, :] - resize_float32_)**2, 2), [256, 256, 1]) \n",
    "\n",
    "for i in range(1,256):\n",
    "    loss_ = tf.reshape(tf.reduce_sum((palette[i, 0, :] - resize_float32_)**2, 2), [256, 256, 1]) \n",
    "\n",
    "    loss = tf.concat([loss, loss_], axis = 2)\n",
    "    \n",
    "index = tf.argmin(loss, axis = 2) # No gradient defined for operation 'ArgMin' (op type: ArgMin)\n",
    "\n",
    "grad = tf.gradients(index, input_img)\n",
    "with tf.Session() as sess:\n",
    "    sess.run(tf.global_variables_initializer())\n",
    "    output_palette = palette.eval()\n",
    "    output_index = index.eval()\n",
    "    \n",
    "    for i in range(256):\n",
    "        for j in range(256):\n",
    "            resize_float32[i, j, :] = output_palette[output_index[i,j], 0, :]\n",
    "\n",
    "    final_result = tf.assign(new_img, resize_float32).eval()\n",
    "    print(sess.run(grad))\n",
    "    \n",
    "    tf.get_default_graph().finalize()\n",
    "end_time = datetime.datetime.now() \n",
    "print((end_time - start_time).seconds)"
   ]
  },
  {
   "cell_type": "code",
   "execution_count": 82,
   "metadata": {},
   "outputs": [
    {
     "data": {
      "text/plain": [
       "<matplotlib.image.AxesImage at 0x2ca30912860>"
      ]
     },
     "execution_count": 82,
     "metadata": {},
     "output_type": "execute_result"
    },
    {
     "data": {
      "image/png": "[encoded data removed]",
      "text/plain": [
       "<matplotlib.figure.Figure at 0x2ca42d7b710>"
      ]
     },
     "metadata": {},
     "output_type": "display_data"
    }
   ],
   "source": [
    "plt.imshow(final_result.astype(np.uint8))"
   ]
  },
  {
   "cell_type": "code",
   "execution_count": 74,
   "metadata": {},
   "outputs": [
    {
     "data": {
      "text/plain": [
       "array([  0,   1,   2,   4,   6,   7,  11,  15,  18,  21,  23,  37,  41,\n",
       "        55,  63,  82,  89,  93, 105, 114, 130, 138, 140, 157, 158, 165,\n",
       "       170, 176, 180, 199, 201, 202, 216, 224, 235, 268, 291, 301, 302,\n",
       "       330, 381, 435, 469], dtype=uint32)"
      ]
     },
     "execution_count": 74,
     "metadata": {},
     "output_type": "execute_result"
    }
   ],
   "source": [
    "from collections import Counter\n",
    "\n",
    "np.unique(np.sum(final_result.astype(np.uint8), 2))"
   ]
  },
  {
   "cell_type": "code",
   "execution_count": null,
   "metadata": {
    "collapsed": true
   },
   "outputs": [],
   "source": []
  }
 ],
 "metadata": {
  "kernelspec": {
   "display_name": "Python 3",
   "language": "python",
   "name": "python3"
  },
  "language_info": {
   "codemirror_mode": {
    "name": "ipython",
    "version": 3
   },
   "file_extension": ".py",
   "mimetype": "text/x-python",
   "name": "python",
   "nbconvert_exporter": "python",
   "pygments_lexer": "ipython3",
   "version": "3.5.2"
  }
 },
 "nbformat": 4,
 "nbformat_minor": 2
}
